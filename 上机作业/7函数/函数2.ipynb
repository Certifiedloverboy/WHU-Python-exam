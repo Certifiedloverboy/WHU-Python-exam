{
 "cells": [
  {
   "cell_type": "markdown",
   "metadata": {},
   "source": [
    "# Python程序设计"
   ]
  },
  {
   "cell_type": "markdown",
   "metadata": {},
   "source": [
    "# 实验 函数（二）"
   ]
  },
  {
   "cell_type": "code",
   "execution_count": 1,
   "metadata": {
    "ExecuteTime": {
     "end_time": "2021-11-24T02:32:16.021257Z",
     "start_time": "2021-11-24T02:32:16.003253Z"
    }
   },
   "outputs": [
    {
     "name": "stdout",
     "output_type": "stream",
     "text": [
      "学号：2018302100035\n",
      "姓名：梁皓然\n"
     ]
    }
   ],
   "source": [
    "# 打印你的学号和姓名\n",
    "print('学号：2018302100035')\n",
    "\n",
    "print('姓名：梁皓然')"
   ]
  },
  {
   "cell_type": "markdown",
   "metadata": {},
   "source": [
    "### 1. 尝试运行下面的语句，观察结果，理解相关代码。如果有错，则思考原因。"
   ]
  },
  {
   "cell_type": "code",
   "execution_count": 2,
   "metadata": {
    "ExecuteTime": {
     "end_time": "2021-11-24T02:32:19.502078Z",
     "start_time": "2021-11-24T02:32:19.495075Z"
    }
   },
   "outputs": [
    {
     "name": "stdout",
     "output_type": "stream",
     "text": [
      "5.5\n"
     ]
    }
   ],
   "source": [
    "print(eval(\"5/2+5%2+5//2\"))"
   ]
  },
  {
   "cell_type": "code",
   "execution_count": 3,
   "metadata": {
    "ExecuteTime": {
     "end_time": "2021-11-24T02:32:22.702604Z",
     "start_time": "2021-11-24T02:32:22.697603Z"
    }
   },
   "outputs": [
    {
     "name": "stdout",
     "output_type": "stream",
     "text": [
      "4 0\n"
     ]
    }
   ],
   "source": [
    "counter = 1; num = 0\n",
    "def testVariables():\n",
    "    global counter\n",
    "    for i in (1,2,3):\n",
    "        counter += 1\n",
    "    num = 10\n",
    "    \n",
    "testVariables()\n",
    "print(counter, num)"
   ]
  },
  {
   "cell_type": "code",
   "execution_count": 4,
   "metadata": {
    "ExecuteTime": {
     "end_time": "2021-11-24T02:32:24.606372Z",
     "start_time": "2021-11-24T02:32:24.596305Z"
    }
   },
   "outputs": [
    {
     "name": "stdout",
     "output_type": "stream",
     "text": [
      "<class 'function'>\n"
     ]
    }
   ],
   "source": [
    "print(type(lambda x: x*x))"
   ]
  },
  {
   "cell_type": "code",
   "execution_count": 5,
   "metadata": {
    "ExecuteTime": {
     "end_time": "2021-11-24T02:32:26.725593Z",
     "start_time": "2021-11-24T02:32:26.713403Z"
    }
   },
   "outputs": [
    {
     "data": {
      "text/plain": [
       "408"
      ]
     },
     "execution_count": 5,
     "metadata": {},
     "output_type": "execute_result"
    }
   ],
   "source": [
    "f = lambda x,y:x*y\n",
    "f(12,34)"
   ]
  },
  {
   "cell_type": "code",
   "execution_count": 6,
   "metadata": {
    "ExecuteTime": {
     "end_time": "2021-11-24T02:32:29.091670Z",
     "start_time": "2021-11-24T02:32:29.077420Z"
    }
   },
   "outputs": [
    {
     "name": "stdout",
     "output_type": "stream",
     "text": [
      "8\n"
     ]
    }
   ],
   "source": [
    "f1 = lambda x:x*2\n",
    "f2 = lambda x:x**2\n",
    "print(f1(f2(2)))"
   ]
  },
  {
   "cell_type": "code",
   "execution_count": 7,
   "metadata": {
    "ExecuteTime": {
     "end_time": "2021-11-24T02:32:30.940996Z",
     "start_time": "2021-11-24T02:32:30.911478Z"
    }
   },
   "outputs": [
    {
     "name": "stdout",
     "output_type": "stream",
     "text": [
      "3\n"
     ]
    }
   ],
   "source": [
    "def f3(a,b,c):print(a+b)\n",
    "nums = (1,2,3)\n",
    "f3(*nums)"
   ]
  },
  {
   "cell_type": "code",
   "execution_count": 8,
   "metadata": {
    "ExecuteTime": {
     "end_time": "2021-11-24T02:32:32.772452Z",
     "start_time": "2021-11-24T02:32:32.757450Z"
    }
   },
   "outputs": [
    {
     "name": "stdout",
     "output_type": "stream",
     "text": [
      "24\n"
     ]
    }
   ],
   "source": [
    "d = lambda p: p*2; t = lambda p: p*3\n",
    "x = 2; x = d(x); x = t(x); x = d(x)\n",
    "print(x)"
   ]
  },
  {
   "cell_type": "code",
   "execution_count": 9,
   "metadata": {
    "ExecuteTime": {
     "end_time": "2021-11-24T02:32:34.863518Z",
     "start_time": "2021-11-24T02:32:34.851521Z"
    }
   },
   "outputs": [
    {
     "name": "stdout",
     "output_type": "stream",
     "text": [
      "1 4 9 "
     ]
    }
   ],
   "source": [
    "i = map(lambda x:x**2, (1,2,3))\n",
    "for v in i: print(v, end=' ')"
   ]
  },
  {
   "cell_type": "code",
   "execution_count": 10,
   "metadata": {
    "ExecuteTime": {
     "end_time": "2021-11-24T02:32:36.767305Z",
     "start_time": "2021-11-24T02:32:36.757303Z"
    }
   },
   "outputs": [
    {
     "name": "stdout",
     "output_type": "stream",
     "text": [
      "36\n"
     ]
    }
   ],
   "source": [
    "def f4(vlist):\n",
    "    if len(vlist)==1: return vlist[0]\n",
    "    else: return vlist[0] + f4(vlist[1:])\n",
    "        \n",
    "print(f4([1,2,3,4,5,6,7,8]))"
   ]
  },
  {
   "cell_type": "markdown",
   "metadata": {},
   "source": [
    "### 2. 编写程序，定义一个查找函数search(dataset, k)，在 dataset 列表中查找指定的数 k 出现的所有位置，然后编写测试代码，产生一组随机整数，由用户输入要找的数，使用search函数查找，并输出查找结果。"
   ]
  },
  {
   "cell_type": "code",
   "execution_count": 81,
   "metadata": {
    "ExecuteTime": {
     "end_time": "2021-11-24T03:22:34.866820Z",
     "start_time": "2021-11-24T03:22:34.851816Z"
    },
    "scrolled": true
   },
   "outputs": [
    {
     "name": "stdout",
     "output_type": "stream",
     "text": [
      "['6', '1', '6', '2', '9', '8', '8', '7', '0', '1']\n"
     ]
    }
   ],
   "source": [
    "# 随机生成一个包含10个0-9整数的数组\n",
    "import numpy as np\n",
    "lst = np.random.randint(10, size=10)\n",
    "\n",
    "# 将数值列表转换成字符串列表，即给每个元素加上单引号\n",
    "dataset=[]\n",
    "for i in lst:\n",
    "    dataset.append(str(i))\n",
    "    \n",
    "print(dataset)"
   ]
  },
  {
   "cell_type": "code",
   "execution_count": 82,
   "metadata": {
    "ExecuteTime": {
     "end_time": "2021-11-24T03:22:37.529130Z",
     "start_time": "2021-11-24T03:22:37.516125Z"
    }
   },
   "outputs": [],
   "source": [
    "# 借助enumerate函数来获取指定的数 k 出现的所有位置\n",
    "def search(dataset=None, k=' '):\n",
    "    return [index for (index,value) in enumerate(lst) if value == k]"
   ]
  },
  {
   "cell_type": "code",
   "execution_count": 84,
   "metadata": {
    "ExecuteTime": {
     "end_time": "2021-11-24T03:23:07.999377Z",
     "start_time": "2021-11-24T03:23:07.986257Z"
    },
    "scrolled": false
   },
   "outputs": [
    {
     "data": {
      "text/plain": [
       "[5, 6]"
      ]
     },
     "execution_count": 84,
     "metadata": {},
     "output_type": "execute_result"
    }
   ],
   "source": [
    "# 测试代码\n",
    "search(dataset,8)"
   ]
  },
  {
   "cell_type": "markdown",
   "metadata": {},
   "source": [
    "### 3. 编写并测试一个递归函数mymax，它找出列表中最大的数字。\n",
    "&emsp;&emsp;提示：mymax是第一个数据项和所有其他数据项的最大值中较大的一个。例如，mymax([23,12,64,8,39])的返回值为64。"
   ]
  },
  {
   "cell_type": "code",
   "execution_count": 11,
   "metadata": {
    "ExecuteTime": {
     "end_time": "2021-11-24T02:35:01.739997Z",
     "start_time": "2021-11-24T02:35:01.726697Z"
    }
   },
   "outputs": [
    {
     "data": {
      "text/plain": [
       "5"
      ]
     },
     "execution_count": 11,
     "metadata": {},
     "output_type": "execute_result"
    }
   ],
   "source": [
    "def mymax(list):\n",
    "    if len(list) == 2:\n",
    "        if list[0]>list[1]:\n",
    "            return list[0]\n",
    "        else:\n",
    "            return list[1]\n",
    "    sub_max = max(list[1:])\n",
    "    if list[0] > sub_max:\n",
    "        return list[0]\n",
    "    else:\n",
    "        return sub_max\n",
    "mymax([1,2,5,3,0])"
   ]
  },
  {
   "cell_type": "markdown",
   "metadata": {},
   "source": [
    "### 4. 你可以编写更多程序。（选做）"
   ]
  },
  {
   "cell_type": "markdown",
   "metadata": {},
   "source": [
    "#### （1） “回文”是顺着读或倒着读含有相同顺序的字母的句子，一个典型的例子是“Able was I, ere I saw Elba”。写一个函数来检测一个字符串是不是回文。\n",
    "&emsp;&emsp;提示：如果打算用递归方法，其基本思想是检查字符串的第一个和最后一个字母是否相同；如果相同，那么如果这两个字母之间的所有内容都是回文，它就是回文。  \n",
    "&emsp;&emsp;有两种特殊情况要检查。如果字符串的第一个或最后一个字符不是字母，你可以检查该字符串删除该字符，其余部分是不是回文。此外，在比较字母时，请确保不区分大小写。  \n",
    "&emsp;&emsp;在程序中使用你的函数，提示用户输入短语，然后指出它是不是回文。另一个经典的测试是“A man, a plan, a canal, Panama!”"
   ]
  },
  {
   "cell_type": "code",
   "execution_count": 10,
   "metadata": {
    "ExecuteTime": {
     "end_time": "2021-11-24T03:42:40.713600Z",
     "start_time": "2021-11-24T03:42:40.705249Z"
    }
   },
   "outputs": [],
   "source": [
    "# 定义一个函数判断一个字符串是不是回文\n",
    "def is_palindrom(s):\n",
    "    \"\"\"判断回文数，递归法\"\"\"\n",
    "    if len(s) < 2:\n",
    "        return True\n",
    "    if s[0] == s[-1]:\n",
    "        return is_palindrom(s[1:-1])\n",
    "    else:\n",
    "        return False"
   ]
  },
  {
   "cell_type": "code",
   "execution_count": 1,
   "metadata": {
    "ExecuteTime": {
     "end_time": "2021-11-24T03:40:45.295057Z",
     "start_time": "2021-11-24T03:40:36.937929Z"
    }
   },
   "outputs": [
    {
     "name": "stdout",
     "output_type": "stream",
     "text": [
      "请输入字符串：A man, a plan, a canal, Panama!3322\n"
     ]
    }
   ],
   "source": [
    "s = input('请输入字符串：')"
   ]
  },
  {
   "cell_type": "code",
   "execution_count": 14,
   "metadata": {
    "ExecuteTime": {
     "end_time": "2021-11-24T03:44:50.809610Z",
     "start_time": "2021-11-24T03:44:50.800608Z"
    }
   },
   "outputs": [
    {
     "name": "stdout",
     "output_type": "stream",
     "text": [
      "AmanaplanacanalPanama3322\n"
     ]
    }
   ],
   "source": [
    "# 去除字符串中的标点符号\n",
    "s1 = ''.join(e for e in s if e.isalnum())\n",
    "print(s1)"
   ]
  },
  {
   "cell_type": "code",
   "execution_count": 15,
   "metadata": {
    "ExecuteTime": {
     "end_time": "2021-11-24T03:46:34.928828Z",
     "start_time": "2021-11-24T03:46:34.919826Z"
    }
   },
   "outputs": [
    {
     "name": "stdout",
     "output_type": "stream",
     "text": [
      "AmanaplanacanalPanama\n"
     ]
    }
   ],
   "source": [
    "# 去除字符串中的数字\n",
    "from string import digits\n",
    "remove_digits = str.maketrans('', '', digits)\n",
    "res = s1.translate(remove_digits)\n",
    "print(res)"
   ]
  },
  {
   "cell_type": "code",
   "execution_count": 16,
   "metadata": {
    "ExecuteTime": {
     "end_time": "2021-11-24T03:46:57.387688Z",
     "start_time": "2021-11-24T03:46:57.370681Z"
    }
   },
   "outputs": [
    {
     "name": "stdout",
     "output_type": "stream",
     "text": [
      "amanaplanacanalpanama\n"
     ]
    }
   ],
   "source": [
    "# 将字符串中的所有大写字母转换为小写字母\n",
    "res1 = str.lower(res)\n",
    "print(res1)"
   ]
  },
  {
   "cell_type": "code",
   "execution_count": 17,
   "metadata": {
    "ExecuteTime": {
     "end_time": "2021-11-24T03:47:08.422634Z",
     "start_time": "2021-11-24T03:47:08.418851Z"
    }
   },
   "outputs": [
    {
     "name": "stdout",
     "output_type": "stream",
     "text": [
      "True\n"
     ]
    }
   ],
   "source": [
    "# 测试函数\n",
    "print(is_palindrom(res1))"
   ]
  },
  {
   "cell_type": "markdown",
   "metadata": {},
   "source": [
    "#### （2）计算机科学家和数学家经常使用 10 以外基数的进制系统。编写一个程序，允许用户输入一个数字和一个基数，然后打印出新基数中的数字。使用递归函数 baseConversion(num, base)打印数字。\n",
    "&emsp;&emsp;提示：考虑基数 10。要获得基数 10 时最右边的数字，只需除以 10 后查看余数。例如，153 % 10 是 3。要获取剩余的数字，你可以对 15 重复该过程， 15 是 153 // 10。这个过程适用于任何基数。唯一的问题是要以相反的顺序得到数字（从右到左）。当 num 小于 base 时会发生递归的基本情况，输出就是 num。在一般情况下，函数（递归）打印 num // base 的数字，然后打印 num % base。你应该在连续输出之间放置一个空格，因为基数大于 10 时，会打印出多个字符的“数字”。例如， baseConversion(1234, 16)应打印 4 13 2。"
   ]
  },
  {
   "cell_type": "code",
   "execution_count": 42,
   "metadata": {
    "ExecuteTime": {
     "end_time": "2021-11-24T04:17:14.249854Z",
     "start_time": "2021-11-24T04:17:14.244854Z"
    }
   },
   "outputs": [],
   "source": [
    "# 递归实现进制转换:10进制~任意(2-16)进制\n",
    "def baseConversion(nums, base):\n",
    "    digits = '0123456789ABCDEF'\n",
    "    if nums < base:\n",
    "        return digits[nums]\n",
    "    else:\n",
    "        return baseConversion(nums // base, base) + digits[nums % base]"
   ]
  },
  {
   "cell_type": "code",
   "execution_count": 43,
   "metadata": {
    "ExecuteTime": {
     "end_time": "2021-11-24T04:17:16.165500Z",
     "start_time": "2021-11-24T04:17:16.152495Z"
    }
   },
   "outputs": [],
   "source": [
    "# 测试函数\n",
    "str = baseConversion(1234, 16)"
   ]
  },
  {
   "cell_type": "code",
   "execution_count": 44,
   "metadata": {
    "ExecuteTime": {
     "end_time": "2021-11-24T04:17:17.758516Z",
     "start_time": "2021-11-24T04:17:17.740509Z"
    },
    "scrolled": false
   },
   "outputs": [
    {
     "name": "stdout",
     "output_type": "stream",
     "text": [
      "4 D 2\n"
     ]
    }
   ],
   "source": [
    "# 在连续输出之间放置一个空格\n",
    "import re\n",
    "text_list = re.findall(\".{1}\",str)\n",
    "new_text = \" \".join(text_list)\n",
    "print(new_text)"
   ]
  },
  {
   "cell_type": "code",
   "execution_count": 45,
   "metadata": {
    "ExecuteTime": {
     "end_time": "2021-11-24T04:17:19.397276Z",
     "start_time": "2021-11-24T04:17:19.387271Z"
    }
   },
   "outputs": [
    {
     "name": "stdout",
     "output_type": "stream",
     "text": [
      "4 13 2\n"
     ]
    }
   ],
   "source": [
    "# 打印结果\n",
    "print(new_text.replace('A', '10').replace('B', '11').replace('C', '12').replace('D', '13').replace('E', '14').replace('F', '15'))"
   ]
  }
 ],
 "metadata": {
  "kernelspec": {
   "display_name": "Python 3",
   "language": "python",
   "name": "python3"
  },
  "language_info": {
   "codemirror_mode": {
    "name": "ipython",
    "version": 3
   },
   "file_extension": ".py",
   "mimetype": "text/x-python",
   "name": "python",
   "nbconvert_exporter": "python",
   "pygments_lexer": "ipython3",
   "version": "3.8.8"
  },
  "toc": {
   "base_numbering": 1,
   "nav_menu": {},
   "number_sections": false,
   "sideBar": true,
   "skip_h1_title": false,
   "title_cell": "Table of Contents",
   "title_sidebar": "Contents",
   "toc_cell": false,
   "toc_position": {},
   "toc_section_display": true,
   "toc_window_display": true
  },
  "varInspector": {
   "cols": {
    "lenName": 16,
    "lenType": 16,
    "lenVar": 40
   },
   "kernels_config": {
    "python": {
     "delete_cmd_postfix": "",
     "delete_cmd_prefix": "del ",
     "library": "var_list.py",
     "varRefreshCmd": "print(var_dic_list())"
    },
    "r": {
     "delete_cmd_postfix": ") ",
     "delete_cmd_prefix": "rm(",
     "library": "var_list.r",
     "varRefreshCmd": "cat(var_dic_list()) "
    }
   },
   "types_to_exclude": [
    "module",
    "function",
    "builtin_function_or_method",
    "instance",
    "_Feature"
   ],
   "window_display": false
  }
 },
 "nbformat": 4,
 "nbformat_minor": 2
}
