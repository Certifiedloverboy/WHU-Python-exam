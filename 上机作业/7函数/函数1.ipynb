{
 "cells": [
  {
   "cell_type": "markdown",
   "metadata": {},
   "source": [
    "# 实验 函数（一）"
   ]
  },
  {
   "cell_type": "code",
   "execution_count": 1,
   "metadata": {
    "ExecuteTime": {
     "end_time": "2021-11-17T01:36:49.925897Z",
     "start_time": "2021-11-17T01:36:49.913948Z"
    }
   },
   "outputs": [
    {
     "name": "stdout",
     "output_type": "stream",
     "text": [
      "姓名：梁皓然\n",
      "学号：2018302100035\n"
     ]
    }
   ],
   "source": [
    "# 打印你的学号和姓名\n",
    "print('姓名：梁皓然')\n",
    "\n",
    "print('学号：2018302100035')"
   ]
  },
  {
   "cell_type": "markdown",
   "metadata": {},
   "source": [
    "### 1. 尝试运行下面的语句，观察结果。如果有错，则思考原因，并以注释形式将错误原因写在程序中。"
   ]
  },
  {
   "cell_type": "code",
   "execution_count": null,
   "metadata": {},
   "outputs": [],
   "source": [
    "def change(i, s):\n",
    "    i += s # 函数没有使用return返回值，函数无效\n",
    "    \n",
    "i=5\n",
    "change(i, 10)\n",
    "print(\"i =\", i)"
   ]
  },
  {
   "cell_type": "markdown",
   "metadata": {},
   "source": [
    "修改和测试结果如下"
   ]
  },
  {
   "cell_type": "code",
   "execution_count": 29,
   "metadata": {
    "ExecuteTime": {
     "end_time": "2021-11-17T03:34:07.993561Z",
     "start_time": "2021-11-17T03:34:07.987566Z"
    }
   },
   "outputs": [
    {
     "name": "stdout",
     "output_type": "stream",
     "text": [
      "i = 15\n"
     ]
    }
   ],
   "source": [
    "def change(i, s):\n",
    "    z = i + s\n",
    "    return z\n",
    "    \n",
    "i=5\n",
    "change(i, 10)\n",
    "print(\"i =\", change(i, 10))"
   ]
  },
  {
   "cell_type": "code",
   "execution_count": 3,
   "metadata": {
    "ExecuteTime": {
     "end_time": "2021-11-17T01:36:59.904505Z",
     "start_time": "2021-11-17T01:36:59.893302Z"
    }
   },
   "outputs": [
    {
     "name": "stdout",
     "output_type": "stream",
     "text": [
      "i = [15]\n"
     ]
    }
   ],
   "source": [
    "def change(i, s):\n",
    "    i[0] += s\n",
    "    \n",
    "i=[5]\n",
    "change(i, 10)\n",
    "print(\"i =\", i)"
   ]
  },
  {
   "cell_type": "code",
   "execution_count": 4,
   "metadata": {
    "ExecuteTime": {
     "end_time": "2021-11-17T01:37:03.015144Z",
     "start_time": "2021-11-17T01:37:03.005143Z"
    }
   },
   "outputs": [
    {
     "name": "stdout",
     "output_type": "stream",
     "text": [
      "                        *                         \n",
      "                       ***                        \n",
      "                      *****                       \n",
      "                     *******                      \n",
      "                    *********                     \n",
      "                   ***********                    \n",
      "                  *************                   \n",
      "                 ***************                  \n",
      "                *****************                 \n",
      "               *******************                \n"
     ]
    }
   ],
   "source": [
    "def print_star(n):\n",
    "    print(('*'*n).center(50))\n",
    "for i in range(10):\n",
    "    print_star(2*i+1)"
   ]
  },
  {
   "cell_type": "code",
   "execution_count": 5,
   "metadata": {
    "ExecuteTime": {
     "end_time": "2021-11-17T01:37:05.421212Z",
     "start_time": "2021-11-17T01:37:05.405205Z"
    }
   },
   "outputs": [
    {
     "name": "stdout",
     "output_type": "stream",
     "text": [
      "12 6 "
     ]
    }
   ],
   "source": [
    "def isEven(n):\n",
    "    if n%2==0:\n",
    "        return True\n",
    "    else:\n",
    "        return False\n",
    "\n",
    "for i in [12, 3, 45, 6]:\n",
    "    if isEven(i): print(i, end=' ')"
   ]
  },
  {
   "cell_type": "code",
   "execution_count": 6,
   "metadata": {
    "ExecuteTime": {
     "end_time": "2021-11-17T01:37:07.469934Z",
     "start_time": "2021-11-17T01:37:07.456701Z"
    }
   },
   "outputs": [
    {
     "name": "stdout",
     "output_type": "stream",
     "text": [
      "simple function\n"
     ]
    }
   ],
   "source": [
    "def f1():\n",
    "    \"simple function\"\n",
    "    pass\n",
    "print(f1.__doc__)"
   ]
  },
  {
   "cell_type": "code",
   "execution_count": 7,
   "metadata": {
    "ExecuteTime": {
     "end_time": "2021-11-17T01:37:09.644695Z",
     "start_time": "2021-11-17T01:37:09.636189Z"
    }
   },
   "outputs": [
    {
     "name": "stdout",
     "output_type": "stream",
     "text": [
      "<class 'tuple'>\n",
      "(2, 3, 4, 5)\n"
     ]
    }
   ],
   "source": [
    "def judge(param1, *param2):\n",
    "    print(type(param2))\n",
    "    print(param2)\n",
    "judge(1,2,3,4,5)"
   ]
  },
  {
   "cell_type": "code",
   "execution_count": 8,
   "metadata": {
    "ExecuteTime": {
     "end_time": "2021-11-17T01:37:11.655211Z",
     "start_time": "2021-11-17T01:37:11.644229Z"
    }
   },
   "outputs": [
    {
     "name": "stdout",
     "output_type": "stream",
     "text": [
      "<class 'dict'>\n",
      "{'a': 2, 'b': 3, 'c': 4, 'd': 5}\n"
     ]
    }
   ],
   "source": [
    "def judge(param1, **param2):\n",
    "    print(type(param2))\n",
    "    print(param2)\n",
    "judge(1,a=2,b=3,c=4,d=5)"
   ]
  },
  {
   "cell_type": "markdown",
   "metadata": {},
   "source": [
    "### 2. 编写程序，定义一个求整数阶乘的函数fact(n)，然后编写测试代码，由用户输入需要计算阶乘的整数n（n>=0），输出计算结果。\n",
    "&emsp;&emsp;例如，输入整数n(n>=0)：5  \n",
    "&emsp;&emsp;输出 5! = 120"
   ]
  },
  {
   "cell_type": "code",
   "execution_count": 11,
   "metadata": {
    "ExecuteTime": {
     "end_time": "2021-11-17T01:46:49.142686Z",
     "start_time": "2021-11-17T01:46:47.941094Z"
    }
   },
   "outputs": [
    {
     "name": "stdout",
     "output_type": "stream",
     "text": [
      "请输入一个整数：5\n",
      "5 != 120\n"
     ]
    }
   ],
   "source": [
    "n = int(input('请输入一个整数：'))\n",
    "\n",
    "def fact(n):\n",
    "    sum1 = 0\n",
    "    if n == 0:\n",
    "        sum1 = 1\n",
    "    else:\n",
    "        sum1 = n * fact(n - 1)\n",
    "    return sum1\n",
    "\n",
    "print(\"{0} != {1}\".format(n, fact(n)))"
   ]
  },
  {
   "cell_type": "markdown",
   "metadata": {},
   "source": [
    "### 3. 编写程序，定义一个求斐波那契数列的函数fib(n)，并编写测试代码，输出前20项（每项宽度5个字符位置，右对齐），每行输出10个。"
   ]
  },
  {
   "cell_type": "code",
   "execution_count": 12,
   "metadata": {
    "ExecuteTime": {
     "end_time": "2021-11-17T01:48:04.998874Z",
     "start_time": "2021-11-17T01:48:04.991873Z"
    }
   },
   "outputs": [
    {
     "name": "stdout",
     "output_type": "stream",
     "text": [
      "         1         1         2         3         5         8        13        21        34        55\n",
      "        89       144       233       377       610       987      1597      2584      4181      6765\n"
     ]
    }
   ],
   "source": [
    "def fib(n):\n",
    "    if n == 1 or n == 2:\n",
    "        return 1\n",
    "    else:\n",
    "        return fib(n - 1) + fib(n - 2)\n",
    "\n",
    "\n",
    "for i in range(20):\n",
    "    print(format(fib(i + 1), '>10.0f'), end='')\n",
    "    if (i + 1) % 10 == 0:\n",
    "        print()"
   ]
  },
  {
   "cell_type": "markdown",
   "metadata": {},
   "source": [
    "### 4. 编写程序，利用可变参数定义一个求任意2个或更多数中最小值的函数min_n(a, b, *c)，并编写测试代码。\n",
    "&emsp;&emsp;例如，print(min_n(8, 2))，print(min_n(16, 1, 7, 4, 15))"
   ]
  },
  {
   "cell_type": "code",
   "execution_count": 18,
   "metadata": {
    "ExecuteTime": {
     "end_time": "2021-11-17T01:53:13.073000Z",
     "start_time": "2021-11-17T01:53:13.068526Z"
    }
   },
   "outputs": [
    {
     "name": "stdout",
     "output_type": "stream",
     "text": [
      "最小值为  2\n",
      "最小值为  1\n"
     ]
    }
   ],
   "source": [
    "def min_n(a, b, *c):\n",
    "    list_a = [a, b]\n",
    "    list_a.extend(c)\n",
    "    return min(list_a)\n",
    "\n",
    "\n",
    "print(\"最小值为 \", min_n(8, 2))\n",
    "print(\"最小值为 \", min_n(16, 1, 7, 4, 15))"
   ]
  },
  {
   "cell_type": "markdown",
   "metadata": {},
   "source": [
    "### 5. 编写程序，利用元组作为函数的返回值，求序列数据中的最大值、最小值和元素个数，并编写测试代码。假设测试数据分别为s1=[9,7,8,3,2,1,55,6]，s2=[\"apple\", \"pear\", \"meton\", \"kiwi\"]和s3=\"TheQuickBrownFox\"。运行效果如下：\n",
    "&emsp;&emsp;list=[9,7,8,3,2,1,55,6]  \n",
    "&emsp;&emsp;最大值=55, 最小值=1, 元素个数=8  \n",
    "&emsp;&emsp;list=[\"apple\", \"pear\", \"meton\", \"kiwi\"]  \n",
    "&emsp;&emsp;最大值=pear, 最小值=apple, 元素个数=4  \n",
    "&emsp;&emsp;list=TheQuickBrownFox  \n",
    "&emsp;&emsp;最大值=x, 最小值=B, 元素个数=16"
   ]
  },
  {
   "cell_type": "code",
   "execution_count": 19,
   "metadata": {
    "ExecuteTime": {
     "end_time": "2021-11-17T01:54:17.063620Z",
     "start_time": "2021-11-17T01:54:17.059618Z"
    }
   },
   "outputs": [
    {
     "name": "stdout",
     "output_type": "stream",
     "text": [
      "最大值是55\n",
      "最小值是1\n",
      "元素个数是8\n",
      "(55, 1, 8)\n",
      "最大值是pear\n",
      "最小值是apple\n",
      "元素个数是4\n",
      "('pear', 'apple', 4)\n",
      "最大值是x\n",
      "最小值是B\n",
      "元素个数是16\n",
      "('x', 'B', 16)\n"
     ]
    }
   ],
   "source": [
    "def print_info(x):\n",
    "    i = max(x)\n",
    "    j = min(x)\n",
    "    l = len(x)\n",
    "    print(\"最大值是%s\" % i)\n",
    "    print(\"最小值是%s\" % j)\n",
    "    print(\"元素个数是{0}\".format(l))\n",
    "    return i, j, l\n",
    "\n",
    "\n",
    "s1 = [9, 8, 7, 3, 2, 1, 55, 6]\n",
    "s2 = ['apple', 'pear', 'melon', 'kiwi']\n",
    "s3 = 'TheQuickBrownFox'\n",
    "q = print_info(s1)\n",
    "print(q)\n",
    "w = print_info(s2)\n",
    "print(w)\n",
    "e = print_info(s3)\n",
    "print(e)"
   ]
  },
  {
   "cell_type": "markdown",
   "metadata": {},
   "source": [
    "### 5. 你可以编写更多程序。（选做）"
   ]
  },
  {
   "cell_type": "markdown",
   "metadata": {},
   "source": [
    "#### （1） 编写程序，定义一个函数IsPerfectNumber(n)判断一个整数是否是完全数。如果一个整数的所有因子的和等于该整数，它就是完全数。用该函数找出1~1000内的所有完全数。"
   ]
  },
  {
   "cell_type": "markdown",
   "metadata": {},
   "source": [
    "#### 下面程序定义一个函数IsPerfectNumber(n)判断一个整数是否是完全数。"
   ]
  },
  {
   "cell_type": "code",
   "execution_count": 2,
   "metadata": {
    "ExecuteTime": {
     "end_time": "2021-11-17T03:04:41.927204Z",
     "start_time": "2021-11-17T03:04:38.068950Z"
    }
   },
   "outputs": [
    {
     "name": "stdout",
     "output_type": "stream",
     "text": [
      "input a number(>0): 496\n",
      "This is perfect number\n"
     ]
    }
   ],
   "source": [
    "import math\n",
    "def isPerfectNumber():\n",
    "    n = int(input('input a number(>0): '))\n",
    "    while(n <= 0):\n",
    "        n = int(input('input a number(>0): '))\n",
    "    sum = 0\n",
    "    k = int(math.sqrt(n))\n",
    "    for i in range(1,k+1):\n",
    "        if 0 == n%i:\n",
    "            sum += n/i\n",
    "            sum += i\n",
    "    sum -= n  #1肯定是因子，多加了一个它自己。\n",
    "    if n == sum:\n",
    "        return 1\n",
    "    else:\n",
    "        return 0\n",
    "def main():\n",
    "    tag = isPerfectNumber()\n",
    "    if tag:\n",
    "        print(\"This is perfect number\")\n",
    "    else:\n",
    "        print(\"This isn't perfect number\")\n",
    " \n",
    "if __name__=='__main__':\n",
    "    main()"
   ]
  },
  {
   "cell_type": "markdown",
   "metadata": {},
   "source": [
    "#### 下面程序用函数IsPerfectNumber(n)找出1~1000内的所有完全数。"
   ]
  },
  {
   "cell_type": "code",
   "execution_count": 3,
   "metadata": {
    "ExecuteTime": {
     "end_time": "2021-11-17T03:06:05.833707Z",
     "start_time": "2021-11-17T03:06:05.823703Z"
    }
   },
   "outputs": [
    {
     "name": "stdout",
     "output_type": "stream",
     "text": [
      "6\n",
      "28\n",
      "496\n"
     ]
    }
   ],
   "source": [
    "import math\n",
    "def isPerfectNumber(k):\n",
    "    n = k\n",
    "    while(n <= 0):\n",
    "        n = int(input('input a number(>0): '))\n",
    "    sum = 0\n",
    "    k = int(math.sqrt(n))\n",
    "    for i in range(1,k+1):\n",
    "        if 0 == n%i:\n",
    "            sum += n/i\n",
    "            sum += i\n",
    "    sum -= n  #1肯定是因子，多加了一个它自己。\n",
    "    if n == sum:\n",
    "        return i\n",
    "    else:\n",
    "        return 0\n",
    "def main():\n",
    "    for k in range(2,1001):\n",
    "        i = isPerfectNumber(k)\n",
    "        if i:\n",
    "            print(k)\n",
    "\n",
    "if __name__=='__main__':\n",
    "    main()"
   ]
  },
  {
   "cell_type": "markdown",
   "metadata": {},
   "source": [
    "#### （2）编写并测试一个函数toNumbers(strList)，满足以下规格说明。\n",
    "&emsp;&emsp;strList 是一个字符串列表，每个字符串表示一个数字。  \n",
    "&emsp;&emsp;修改列表，将每一项转换为数字。  \n",
    "&emsp;&emsp;假设aList = [\"123\", \"456\", \"789\"]，则通过调用toNumbers(aList)使得aList = [123, 456, 789]"
   ]
  },
  {
   "cell_type": "code",
   "execution_count": 11,
   "metadata": {
    "ExecuteTime": {
     "end_time": "2021-11-17T03:17:04.564246Z",
     "start_time": "2021-11-17T03:17:04.561246Z"
    },
    "scrolled": true
   },
   "outputs": [],
   "source": [
    "def toNumbers(lis):\n",
    "    return [int(num) for num in lis]"
   ]
  },
  {
   "cell_type": "code",
   "execution_count": 12,
   "metadata": {
    "ExecuteTime": {
     "end_time": "2021-11-17T03:17:06.342247Z",
     "start_time": "2021-11-17T03:17:06.332061Z"
    }
   },
   "outputs": [],
   "source": [
    "aList = [\"123\", \"456\", \"789\"]"
   ]
  },
  {
   "cell_type": "code",
   "execution_count": 13,
   "metadata": {
    "ExecuteTime": {
     "end_time": "2021-11-17T03:17:08.039963Z",
     "start_time": "2021-11-17T03:17:08.031456Z"
    }
   },
   "outputs": [],
   "source": [
    "b=toNumbers(aList)"
   ]
  },
  {
   "cell_type": "code",
   "execution_count": 14,
   "metadata": {
    "ExecuteTime": {
     "end_time": "2021-11-17T03:17:09.614256Z",
     "start_time": "2021-11-17T03:17:09.608254Z"
    }
   },
   "outputs": [
    {
     "data": {
      "text/plain": [
       "[123, 456, 789]"
      ]
     },
     "execution_count": 14,
     "metadata": {},
     "output_type": "execute_result"
    }
   ],
   "source": [
    "b"
   ]
  }
 ],
 "metadata": {
  "kernelspec": {
   "display_name": "Python 3",
   "language": "python",
   "name": "python3"
  },
  "language_info": {
   "codemirror_mode": {
    "name": "ipython",
    "version": 3
   },
   "file_extension": ".py",
   "mimetype": "text/x-python",
   "name": "python",
   "nbconvert_exporter": "python",
   "pygments_lexer": "ipython3",
   "version": "3.8.8"
  },
  "toc": {
   "base_numbering": 1,
   "nav_menu": {},
   "number_sections": true,
   "sideBar": true,
   "skip_h1_title": false,
   "title_cell": "Table of Contents",
   "title_sidebar": "Contents",
   "toc_cell": false,
   "toc_position": {},
   "toc_section_display": true,
   "toc_window_display": false
  },
  "varInspector": {
   "cols": {
    "lenName": 16,
    "lenType": 16,
    "lenVar": 40
   },
   "kernels_config": {
    "python": {
     "delete_cmd_postfix": "",
     "delete_cmd_prefix": "del ",
     "library": "var_list.py",
     "varRefreshCmd": "print(var_dic_list())"
    },
    "r": {
     "delete_cmd_postfix": ") ",
     "delete_cmd_prefix": "rm(",
     "library": "var_list.r",
     "varRefreshCmd": "cat(var_dic_list()) "
    }
   },
   "types_to_exclude": [
    "module",
    "function",
    "builtin_function_or_method",
    "instance",
    "_Feature"
   ],
   "window_display": false
  }
 },
 "nbformat": 4,
 "nbformat_minor": 2
}
