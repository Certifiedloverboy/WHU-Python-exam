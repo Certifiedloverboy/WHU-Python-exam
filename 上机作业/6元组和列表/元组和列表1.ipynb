{
 "cells": [
  {
   "cell_type": "markdown",
   "metadata": {},
   "source": [
    "# Python程序设计实验 元组和列表"
   ]
  },
  {
   "cell_type": "markdown",
   "metadata": {},
   "source": [
    "### 用Python程序打印你的学号和姓名 "
   ]
  },
  {
   "cell_type": "code",
   "execution_count": 1,
   "metadata": {
    "ExecuteTime": {
     "end_time": "2021-10-27T03:27:31.905273Z",
     "start_time": "2021-10-27T03:27:31.889167Z"
    }
   },
   "outputs": [
    {
     "name": "stdout",
     "output_type": "stream",
     "text": [
      "姓名：梁皓然\n",
      "学号：2018302100035\n"
     ]
    }
   ],
   "source": [
    "print('姓名：梁皓然')\n",
    "\n",
    "print('学号：2018302100035')"
   ]
  },
  {
   "cell_type": "markdown",
   "metadata": {},
   "source": [
    "## 1、尝试运行下面的语句，观察结果。如果有错，则思考原因。"
   ]
  },
  {
   "cell_type": "code",
   "execution_count": 2,
   "metadata": {
    "ExecuteTime": {
     "end_time": "2021-10-27T03:27:43.907654Z",
     "start_time": "2021-10-27T03:27:43.892652Z"
    }
   },
   "outputs": [
    {
     "name": "stdout",
     "output_type": "stream",
     "text": [
      "<class 'list'>\n"
     ]
    }
   ],
   "source": [
    "print(type([1,2,3,4]))"
   ]
  },
  {
   "cell_type": "code",
   "execution_count": 3,
   "metadata": {
    "ExecuteTime": {
     "end_time": "2021-10-27T03:29:00.859541Z",
     "start_time": "2021-10-27T03:29:00.856027Z"
    }
   },
   "outputs": [
    {
     "name": "stdout",
     "output_type": "stream",
     "text": [
      "<class 'tuple'>\n"
     ]
    }
   ],
   "source": [
    "print(type((1,2,3,4)))"
   ]
  },
  {
   "cell_type": "code",
   "execution_count": 4,
   "metadata": {
    "ExecuteTime": {
     "end_time": "2021-10-27T03:30:38.893054Z",
     "start_time": "2021-10-27T03:30:38.881547Z"
    }
   },
   "outputs": [
    {
     "name": "stdout",
     "output_type": "stream",
     "text": [
      "[1, 4, 3, 4]\n"
     ]
    }
   ],
   "source": [
    "l1 = [1,2,3,4]\n",
    "l1[1] = 4\n",
    "print(l1)"
   ]
  },
  {
   "cell_type": "code",
   "execution_count": 5,
   "metadata": {
    "ExecuteTime": {
     "end_time": "2021-10-27T03:30:42.432058Z",
     "start_time": "2021-10-27T03:30:42.204142Z"
    }
   },
   "outputs": [
    {
     "ename": "TypeError",
     "evalue": "'tuple' object does not support item assignment",
     "output_type": "error",
     "traceback": [
      "\u001b[1;31m---------------------------------------------------------------------------\u001b[0m",
      "\u001b[1;31mTypeError\u001b[0m                                 Traceback (most recent call last)",
      "\u001b[1;32m<ipython-input-5-3dcfab169b03>\u001b[0m in \u001b[0;36m<module>\u001b[1;34m\u001b[0m\n\u001b[0;32m      1\u001b[0m \u001b[0mt1\u001b[0m \u001b[1;33m=\u001b[0m \u001b[1;33m(\u001b[0m\u001b[1;36m1\u001b[0m\u001b[1;33m,\u001b[0m\u001b[1;36m2\u001b[0m\u001b[1;33m,\u001b[0m\u001b[1;36m3\u001b[0m\u001b[1;33m,\u001b[0m\u001b[1;36m4\u001b[0m\u001b[1;33m)\u001b[0m\u001b[1;33m\u001b[0m\u001b[1;33m\u001b[0m\u001b[0m\n\u001b[1;32m----> 2\u001b[1;33m \u001b[0mt1\u001b[0m\u001b[1;33m[\u001b[0m\u001b[1;36m1\u001b[0m\u001b[1;33m]\u001b[0m \u001b[1;33m=\u001b[0m \u001b[1;36m4\u001b[0m\u001b[1;33m\u001b[0m\u001b[1;33m\u001b[0m\u001b[0m\n\u001b[0m\u001b[0;32m      3\u001b[0m \u001b[0mprint\u001b[0m\u001b[1;33m(\u001b[0m\u001b[0mt1\u001b[0m\u001b[1;33m)\u001b[0m\u001b[1;33m\u001b[0m\u001b[1;33m\u001b[0m\u001b[0m\n",
      "\u001b[1;31mTypeError\u001b[0m: 'tuple' object does not support item assignment"
     ]
    }
   ],
   "source": [
    "t1 = (1,2,3,4)\n",
    "t1[1] = 4\n",
    "print(t1)"
   ]
  },
  {
   "cell_type": "markdown",
   "metadata": {},
   "source": [
    "错误原因: '元组'对象不支持项赋值"
   ]
  },
  {
   "cell_type": "code",
   "execution_count": 6,
   "metadata": {
    "ExecuteTime": {
     "end_time": "2021-10-27T03:30:45.447696Z",
     "start_time": "2021-10-27T03:30:45.436199Z"
    }
   },
   "outputs": [
    {
     "name": "stdout",
     "output_type": "stream",
     "text": [
      "6\n"
     ]
    }
   ],
   "source": [
    "l2 = [1,2,3,None,(),[]]\n",
    "print(len(l2))"
   ]
  },
  {
   "cell_type": "code",
   "execution_count": 7,
   "metadata": {
    "ExecuteTime": {
     "end_time": "2021-10-27T03:30:47.908723Z",
     "start_time": "2021-10-27T03:30:47.903722Z"
    }
   },
   "outputs": [
    {
     "name": "stdout",
     "output_type": "stream",
     "text": [
      "[4, 2, 6]\n"
     ]
    }
   ],
   "source": [
    "l3 = [4,5,6]\n",
    "l4 = l3\n",
    "l3[1] = 2\n",
    "print(l4)"
   ]
  },
  {
   "cell_type": "code",
   "execution_count": 8,
   "metadata": {
    "ExecuteTime": {
     "end_time": "2021-10-27T03:30:51.522890Z",
     "start_time": "2021-10-27T03:30:51.508887Z"
    }
   },
   "outputs": [
    {
     "name": "stdout",
     "output_type": "stream",
     "text": [
      "False\n"
     ]
    }
   ],
   "source": [
    "print([3] in [1,2,3,4])"
   ]
  },
  {
   "cell_type": "code",
   "execution_count": 10,
   "metadata": {
    "ExecuteTime": {
     "end_time": "2021-10-27T03:38:09.275334Z",
     "start_time": "2021-10-27T03:38:09.271334Z"
    }
   },
   "outputs": [
    {
     "name": "stdout",
     "output_type": "stream",
     "text": [
      "True\n"
     ]
    }
   ],
   "source": [
    "print((3) in [1,2,3,4])"
   ]
  },
  {
   "cell_type": "markdown",
   "metadata": {},
   "source": [
    "## 2、编写程序，删除一个list里面的重复元素。（第5章上机实践题3）\n",
    "***提示：可以利用s.append(x)方法把对象x追加到列表s的尾部。***"
   ]
  },
  {
   "cell_type": "code",
   "execution_count": 11,
   "metadata": {
    "ExecuteTime": {
     "end_time": "2021-10-27T03:58:00.105492Z",
     "start_time": "2021-10-27T03:58:00.095987Z"
    }
   },
   "outputs": [
    {
     "name": "stdout",
     "output_type": "stream",
     "text": [
      "[1, 2, 3, 4, 5]\n",
      "[1, 8, 3, 9, 6]\n"
     ]
    }
   ],
   "source": [
    "def delList(L):\n",
    "    L1 = []\n",
    "    for i in L:\n",
    "        if i not in L1:\n",
    "            L1.append(i)\n",
    "    return L1\n",
    "\n",
    "\n",
    "print(delList([1, 2, 2, 3, 3, 4, 5]))\n",
    "print(delList([1, 8, 8, 3, 9, 3, 3, 3, 3, 3, 6, 3]))"
   ]
  },
  {
   "cell_type": "markdown",
   "metadata": {},
   "source": [
    "## 3、编写程序，求列表s=[9, 7, 8, 3, 2, 1, 5, 6]中的元素个数、最大值、最小值，以及元素之和、平均值。请思考有哪几种实现方法。（第5章上机实践题4）\n",
    "***提示：可以分别利用for循环、while循环、直接访问列表元素（for i in s...）、间接访问列表元素（for i in range(0,len(s))...）、正序访问（i=0; while i<len(s)...）、反序访问（i=len(s)-1; while i>=0...）以及while True: ... break等方法。***\n"
   ]
  },
  {
   "cell_type": "code",
   "execution_count": 2,
   "metadata": {
    "ExecuteTime": {
     "end_time": "2021-10-27T04:27:36.851856Z",
     "start_time": "2021-10-27T04:27:36.841539Z"
    }
   },
   "outputs": [
    {
     "name": "stdout",
     "output_type": "stream",
     "text": [
      "元素个数8，最大值9，最小值1，元素和41，平均值5.125\n"
     ]
    }
   ],
   "source": [
    "#编写程序，求列表s=[]求 元素个数，最大值，最小值，元素和，平均值\n",
    "def choose(s):\n",
    "    sum = 0\n",
    "    all = 0\n",
    "    maxnum = max(s)\n",
    "    minnum = min(s)\n",
    "    for i in s:\n",
    "        sum = sum + 1 #元素个数\n",
    "        all = all + i\n",
    "    average = all / sum\n",
    "    print(str(\"元素个数{0}，最大值{1}，最小值{2}，元素和{3}，平均值{4}\").format(sum, maxnum, minnum, all, average))\n",
    "def main():\n",
    "    s = [9,7,8,3,2,1,5,6]\n",
    "    choose(s)\n",
    "main()"
   ]
  },
  {
   "cell_type": "markdown",
   "metadata": {
    "heading_collapsed": true
   },
   "source": [
    "## 4、编写程序，将列表s=[9, 7, 8, 3, 2, 1, 5, 6]中的偶数变成它的平方，奇数保持不变。（第5章上机实践题5）\n",
    "***提示：可以利用“if (s[i]%2)==0: ...”的语句形式判断列表中的第i个元素是否为偶数。***\n"
   ]
  },
  {
   "cell_type": "code",
   "execution_count": 13,
   "metadata": {
    "ExecuteTime": {
     "end_time": "2021-10-27T04:01:20.684651Z",
     "start_time": "2021-10-27T04:01:20.671649Z"
    },
    "hidden": true
   },
   "outputs": [
    {
     "name": "stdout",
     "output_type": "stream",
     "text": [
      "[9, 7, 64, 3, 4, 1, 5, 36]\n"
     ]
    }
   ],
   "source": [
    "s=[9,7,8,3,2,1,5,6]\n",
    "for i in range(0,8):\n",
    "  if (s[i]%2)==0:\n",
    "    s[i]=s[i]*s[i]\n",
    "print(s)"
   ]
  },
  {
   "cell_type": "markdown",
   "metadata": {},
   "source": [
    "## 5、 编写程序，计算用户输入的一组数的平均值和均方差。"
   ]
  },
  {
   "cell_type": "code",
   "execution_count": 1,
   "metadata": {
    "ExecuteTime": {
     "end_time": "2021-10-27T04:27:31.980943Z",
     "start_time": "2021-10-27T04:27:22.854518Z"
    }
   },
   "outputs": [
    {
     "name": "stdout",
     "output_type": "stream",
     "text": [
      "1 3 6 5 7 9 12\n",
      "这组数的平均值为：6.14,均方差为：11.55\n"
     ]
    }
   ],
   "source": [
    "arr = input(\"\")#输入一个一维数组，每个数之间使空格隔开\n",
    "num = [int(n) for n in arr.split()]#将输入每个数以空格键隔开做成数组\n",
    "\n",
    "def choose(s):\n",
    "    sum = 0\n",
    "    all = 0\n",
    "    for i in s:\n",
    "        sum = sum + 1#元素个数\n",
    "        all = all + i\n",
    "    average = all / sum\n",
    "    SSE = 0#和方差\n",
    "    for i in s:\n",
    "        SSE += (average-i)**2\n",
    "    MSE = SSE / sum#均方差\n",
    "    print(str.format('这组数的平均值为：{0:.2f},均方差为：{1:.2f}',average,MSE))\n",
    "def main():\n",
    "    choose(num)\n",
    "main()      "
   ]
  }
 ],
 "metadata": {
  "kernelspec": {
   "display_name": "Python 3",
   "language": "python",
   "name": "python3"
  },
  "language_info": {
   "codemirror_mode": {
    "name": "ipython",
    "version": 3
   },
   "file_extension": ".py",
   "mimetype": "text/x-python",
   "name": "python",
   "nbconvert_exporter": "python",
   "pygments_lexer": "ipython3",
   "version": "3.8.8"
  },
  "toc": {
   "base_numbering": 1,
   "nav_menu": {},
   "number_sections": true,
   "sideBar": true,
   "skip_h1_title": false,
   "title_cell": "Table of Contents",
   "title_sidebar": "Contents",
   "toc_cell": false,
   "toc_position": {},
   "toc_section_display": true,
   "toc_window_display": false
  },
  "varInspector": {
   "cols": {
    "lenName": 16,
    "lenType": 16,
    "lenVar": 40
   },
   "kernels_config": {
    "python": {
     "delete_cmd_postfix": "",
     "delete_cmd_prefix": "del ",
     "library": "var_list.py",
     "varRefreshCmd": "print(var_dic_list())"
    },
    "r": {
     "delete_cmd_postfix": ") ",
     "delete_cmd_prefix": "rm(",
     "library": "var_list.r",
     "varRefreshCmd": "cat(var_dic_list()) "
    }
   },
   "types_to_exclude": [
    "module",
    "function",
    "builtin_function_or_method",
    "instance",
    "_Feature"
   ],
   "window_display": false
  }
 },
 "nbformat": 4,
 "nbformat_minor": 4
}
