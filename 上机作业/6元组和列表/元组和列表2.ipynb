{
 "cells": [
  {
   "cell_type": "markdown",
   "metadata": {},
   "source": [
    "# 实验 序列数据类型-列表和元组"
   ]
  },
  {
   "cell_type": "code",
   "execution_count": 1,
   "metadata": {
    "ExecuteTime": {
     "end_time": "2021-11-03T02:50:20.544116Z",
     "start_time": "2021-11-03T02:50:20.534610Z"
    }
   },
   "outputs": [
    {
     "name": "stdout",
     "output_type": "stream",
     "text": [
      "姓名：梁皓然\n",
      "学号：2018302100035\n"
     ]
    }
   ],
   "source": [
    "# 打印你的学号和姓名\n",
    "print('姓名：梁皓然')\n",
    "\n",
    "print('学号：2018302100035')"
   ]
  },
  {
   "cell_type": "markdown",
   "metadata": {},
   "source": [
    "### 1. 编写程序，生成包含20个随机数的列表，然后将前10个元素按升序排序，后10个元素按降序排序，并输出处理后的列表。"
   ]
  },
  {
   "cell_type": "code",
   "execution_count": 2,
   "metadata": {
    "ExecuteTime": {
     "end_time": "2021-11-03T02:51:33.143919Z",
     "start_time": "2021-11-03T02:51:33.139918Z"
    }
   },
   "outputs": [
    {
     "name": "stdout",
     "output_type": "stream",
     "text": [
      "[6, 13, 15, 18, 26, 43, 71, 74, 86, 98, 100, 92, 91, 81, 62, 62, 30, 30, 20, 19]\n"
     ]
    }
   ],
   "source": [
    "import random\n",
    "x=[random.randint(1,100) for i in range(20)]\n",
    "a=sorted(x[:10])\n",
    "b=sorted(x[10:],reverse=True)\n",
    "x=a+b\n",
    "print(x)"
   ]
  },
  {
   "cell_type": "markdown",
   "metadata": {},
   "source": [
    "### 2. 计算并输出杨辉三角形（要求打印出 10 行）。\n",
    "1  \n",
    "1&nbsp;&nbsp;1  \n",
    "1&nbsp;&nbsp;2&nbsp;&nbsp;1  \n",
    "1&nbsp;&nbsp;3&nbsp;&nbsp;3&nbsp;&nbsp;1  \n",
    "1&nbsp;&nbsp;4&nbsp;&nbsp;6&nbsp;&nbsp;4&nbsp;&nbsp;1  \n",
    "1&nbsp;&nbsp;5&nbsp;10&nbsp;10&nbsp;&nbsp;5&nbsp;&nbsp;1  "
   ]
  },
  {
   "cell_type": "code",
   "execution_count": 3,
   "metadata": {
    "ExecuteTime": {
     "end_time": "2021-11-03T02:52:16.242952Z",
     "start_time": "2021-11-03T02:52:16.236951Z"
    }
   },
   "outputs": [
    {
     "name": "stdout",
     "output_type": "stream",
     "text": [
      "[1]\n",
      "[1, 1]\n",
      "[1, 2, 1]\n",
      "[1, 3, 3, 1]\n",
      "[1, 4, 6, 4, 1]\n",
      "[1, 5, 10, 10, 5, 1]\n",
      "[1, 6, 15, 20, 15, 6, 1]\n",
      "[1, 7, 21, 35, 35, 21, 7, 1]\n",
      "[1, 8, 28, 56, 70, 56, 28, 8, 1]\n",
      "[1, 9, 36, 84, 126, 126, 84, 36, 9, 1]\n"
     ]
    }
   ],
   "source": [
    "def triangle():\n",
    "    N = [1]\n",
    "    while True:\n",
    "        yield N     #generator特点在于：在执行过程中，遇到yield就中断，下次又继续执行\n",
    "        N.append(0)  #每次都要在最后一位加个0，用于后续的叠加\n",
    "        N = [N[i]+N[i-1] for i in range(len(N))]\n",
    " \n",
    "def print_triangle(x):\n",
    "    a = 0\n",
    "    for t in triangle():  #这里可以每次调用一个N（得力于Yield函数）\n",
    "        print(t)\n",
    "        a += 1\n",
    "        if a ==x:\n",
    "             break\n",
    "print_triangle(10) #打印10行"
   ]
  },
  {
   "cell_type": "markdown",
   "metadata": {},
   "source": [
    "### 3. 编写程序，生成一个列表，包含25个1-10之间的随机数，并统计列表中有几个不一样的数及其出现的次数。"
   ]
  },
  {
   "cell_type": "code",
   "execution_count": 11,
   "metadata": {
    "ExecuteTime": {
     "end_time": "2021-11-03T03:02:45.574194Z",
     "start_time": "2021-11-03T03:02:45.570193Z"
    }
   },
   "outputs": [
    {
     "name": "stdout",
     "output_type": "stream",
     "text": [
      "生成25个随机整数的列表为： [1, 8, 10, 4, 6, 8, 9, 3, 2, 1, 4, 5, 4, 6, 8, 4, 7, 5, 9, 2, 1, 1, 10, 7, 7]\n",
      "其中元素1出现的次数为: {4}\n",
      "其中元素2出现的次数为: {2}\n",
      "其中元素3出现的次数为: {1}\n",
      "其中元素4出现的次数为: {4}\n",
      "其中元素5出现的次数为: {2}\n",
      "其中元素6出现的次数为: {2}\n",
      "其中元素7出现的次数为: {3}\n",
      "其中元素8出现的次数为: {3}\n",
      "其中元素9出现的次数为: {2}\n",
      "其中元素10出现的次数为: {2}\n"
     ]
    }
   ],
   "source": [
    "import random\n",
    "\n",
    "list_1 = []\n",
    "#随机生成包含25个1-10的整数\n",
    "for i in range(25):\n",
    "    list_1.append(random.randint(1,10))\n",
    "print('生成25个随机整数的列表为：',list_1)\n",
    "#计算列表中每个元素出现的次数\n",
    "for i in range(1,11):\n",
    "    list_2 = []\n",
    "    #计算元素个数并添加到列表list_2中\n",
    "    list_2.append(list_1.count(i))\n",
    "    #将列表转换成集合\n",
    "    s_1 = set(list_2)\n",
    "    print('其中元素%s出现的次数为:'%(i),s_1)"
   ]
  },
  {
   "cell_type": "markdown",
   "metadata": {},
   "source": [
    "### 4. 你可以编写更多程序。（选做，希望尽力完成）"
   ]
  },
  {
   "cell_type": "markdown",
   "metadata": {},
   "source": [
    "#### （1）编写程序降序输出7家全国零售百强电商的销售额。\n",
    "&emsp;&emsp;下面是2017年全国零售百强电商销售额排名靠前的7家企业，请对7家企业的销售额进行降序排名并输出。  \n",
    "&emsp;&emsp;聚美优品，58亿元；京东，12945亿元；亚马逊中国，391亿元；当当网，357亿元；唯品会，728亿元；考拉严选，116亿元；天猫，21086亿元。  \n",
    "  \n",
    "&emsp;&emsp;降序排名的输出样式：  \n",
    "  \n",
    "    企业\t销售额（亿元）  \n",
    "    天猫\t21086  \n",
    "    京东\t12945  \n",
    "&emsp;&emsp;..."
   ]
  },
  {
   "cell_type": "code",
   "execution_count": 59,
   "metadata": {
    "ExecuteTime": {
     "end_time": "2021-11-03T04:14:23.108094Z",
     "start_time": "2021-11-03T04:14:23.096588Z"
    }
   },
   "outputs": [
    {
     "name": "stdout",
     "output_type": "stream",
     "text": [
      "企业 销售额（亿元） \n",
      "天猫 21086 \n",
      "京东 12945 \n",
      "唯品会 728 \n",
      "亚马逊中国 391 \n",
      "当当网 357 \n",
      "考拉严选 116 \n",
      "聚美优品 58 \n"
     ]
    }
   ],
   "source": [
    "x_brands = [\n",
    "    [\"聚美优品\",58,],\n",
    "    [\"京东\",12945],\n",
    "    [\"亚马逊中国\",391],\n",
    "    [\"当当网\",357],\n",
    "    [\"唯品会\",728],\n",
    "    [\"考拉严选\",116],\n",
    "    [\"天猫\",21086],\n",
    "]\n",
    "\n",
    "x_title = [\"企业\",\"销售额（亿元）\"]\n",
    "sorted_numbers=sorted(x_brands, key=lambda brand: brand[1], reverse=True)\n",
    "sorted_numbers.insert(0,x_title)\n",
    "for m in range(8):             #生成0、1、2、3、4、5、6、7的列表（第一维）\n",
    "    for n in range(2):         #生成列表\n",
    "        print(sorted_numbers[m][n],end=' ')  #m行、n列，换行\n",
    "    print()       #打印完一行，换行"
   ]
  },
  {
   "cell_type": "markdown",
   "metadata": {},
   "source": [
    "#### （2）埃拉托斯特尼筛法是一种优雅的算法，用于确定不超过 n 的所有素数。\n",
    "&emsp;&emsp;基本思想是首先创建从 2 到 n 的数字列表。第一个数字从列表中删除，并作为素数公布，而且将该数字的所有倍数从列表中删除。此过程一直持续到列表为空。  \n",
    "&emsp;&emsp;例如，如果我们希望找到不超过 10 的所有素数，该列表最初将包含 2、 3、 4、 5、 6、 7、8、 9、 10。 2 被删除并宣布为素数。然后 4、 6、 8 和 10 被删除，因为它们是 2 的倍数。这会留下 3、 5、 7、 9。重复该过程， 3 被宣布为素数并删除，并且 9 被删除，因为它 3 的倍数。这会留下 5 和 7。算法继续宣布 5 是素数，并将它从列表中删除。最后， 7 被宣布和删除，我们完工了。  \n",
    "&emsp;&emsp;编写一个程序提示用户输入 n，然后用筛选算法找出小于或等于 n 的所有素数。"
   ]
  },
  {
   "cell_type": "code",
   "execution_count": 61,
   "metadata": {
    "ExecuteTime": {
     "end_time": "2021-11-03T04:21:44.016359Z",
     "start_time": "2021-11-03T04:21:43.997365Z"
    }
   },
   "outputs": [
    {
     "name": "stdout",
     "output_type": "stream",
     "text": [
      "[2, 3, 5, 7, 11, 13, 17, 19, 23, 29, 31, 37, 41, 43, 47, 53, 59, 61, 67, 71, 73, 79, 83, 89, 97]\n"
     ]
    }
   ],
   "source": [
    "def sieve_of_eratosthenes(n):#埃拉托色尼筛选法，返回少于n的素数\n",
    "    primes = [True] * (n+1)#范围0到n的列表\n",
    "    p = 2#这是最小的素数\n",
    "    while p * p <= n:#一直筛到sqrt(n)就行了\n",
    "        if primes[p]:#如果没被筛，一定是素数\n",
    "            for i in range(p * 2, n + 1, p):#筛掉它的倍数即可\n",
    "                primes[i] = False\n",
    "        p += 1\n",
    "    primes = [element for element in range(2, n) if primes[element]]#得到所有少于n的素数\n",
    "    return primes\n",
    "print(sieve_of_eratosthenes(100))"
   ]
  }
 ],
 "metadata": {
  "kernelspec": {
   "display_name": "Python 3",
   "language": "python",
   "name": "python3"
  },
  "language_info": {
   "codemirror_mode": {
    "name": "ipython",
    "version": 3
   },
   "file_extension": ".py",
   "mimetype": "text/x-python",
   "name": "python",
   "nbconvert_exporter": "python",
   "pygments_lexer": "ipython3",
   "version": "3.8.8"
  },
  "toc": {
   "base_numbering": 1,
   "nav_menu": {},
   "number_sections": true,
   "sideBar": true,
   "skip_h1_title": false,
   "title_cell": "Table of Contents",
   "title_sidebar": "Contents",
   "toc_cell": false,
   "toc_position": {},
   "toc_section_display": true,
   "toc_window_display": false
  },
  "varInspector": {
   "cols": {
    "lenName": 16,
    "lenType": 16,
    "lenVar": 40
   },
   "kernels_config": {
    "python": {
     "delete_cmd_postfix": "",
     "delete_cmd_prefix": "del ",
     "library": "var_list.py",
     "varRefreshCmd": "print(var_dic_list())"
    },
    "r": {
     "delete_cmd_postfix": ") ",
     "delete_cmd_prefix": "rm(",
     "library": "var_list.r",
     "varRefreshCmd": "cat(var_dic_list()) "
    }
   },
   "types_to_exclude": [
    "module",
    "function",
    "builtin_function_or_method",
    "instance",
    "_Feature"
   ],
   "window_display": false
  }
 },
 "nbformat": 4,
 "nbformat_minor": 2
}
